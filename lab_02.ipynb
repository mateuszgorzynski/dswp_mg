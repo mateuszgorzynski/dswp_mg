{
 "cells": [
  {
   "cell_type": "markdown",
   "id": "6ac65811",
   "metadata": {},
   "source": [
    "__ZADANIE 1__"
   ]
  },
  {
   "cell_type": "code",
   "execution_count": 27,
   "id": "affb74df",
   "metadata": {},
   "outputs": [
    {
     "name": "stdout",
     "output_type": "stream",
     "text": [
      "Wpisz linię znaków rozdzielonych jakimś separatorem (przecinek):\n",
      "Ala,ma,5,kotów\n",
      "Separator źródłowy:\n",
      ",\n",
      "Separator docelowy:\n",
      "/\n"
     ]
    }
   ],
   "source": [
    "linia = input(\"Wpisz linię znaków rozdzielonych jakimś separatorem (przecinek):\\n\")\n",
    "sep1 = input(\"Separator źródłowy:\\n\")\n",
    "sep2 = input(\"Separator docelowy:\\n\")"
   ]
  },
  {
   "cell_type": "code",
   "execution_count": 28,
   "id": "260db501",
   "metadata": {},
   "outputs": [
    {
     "name": "stdout",
     "output_type": "stream",
     "text": [
      "Ala/ma/5/kotów\n"
     ]
    }
   ],
   "source": [
    "liniatab = linia.split(sep1)\n",
    "newlinia = sep2.join(liniatab)\n",
    "print(newlinia)"
   ]
  },
  {
   "cell_type": "markdown",
   "id": "d9dbc8b3",
   "metadata": {},
   "source": [
    "__ZADANIE 2__"
   ]
  },
  {
   "cell_type": "code",
   "execution_count": 29,
   "id": "6f8fa2c6",
   "metadata": {},
   "outputs": [],
   "source": [
    "tekst = 'Lorem Ipsum jest tekstem stosowanym jako przykładowy wypełniacz w przemyśle poligraficznym. Został po raz pierwszy użyty w XV w. przez nieznanego drukarza do wypełnienia tekstem próbnej książki. Pięć wieków później zaczął być używany przemyśle elektronicznym, pozostając praktycznie niezmienionym. Spopularyzował się w latach 60. XX w. wraz z publikacją arkuszy Letrasetu, zawierających fragmenty Lorem Ipsum, a ostatnio z zawierającym różne wersje Lorem Ipsum oprogramowaniem przeznaczonym do realizacji druków na komputerach osobistych, jak Aldus PageMaker'"
   ]
  },
  {
   "cell_type": "code",
   "execution_count": 30,
   "id": "faba7d59",
   "metadata": {},
   "outputs": [
    {
     "name": "stdout",
     "output_type": "stream",
     "text": [
      "Lorem Ipsum jest tekstem stosowanym jako przykładowy wypełniacz w przemyśle poligraficznym. Został po raz pierwszy użyty w XV w. przez nieznanego drukarza do wypełnienia tekstem próbnej książki. Pięć wieków później zaczął być używany przemyśle elektronicznym, pozostając praktycznie niezmienionym. Spopularyzował się w latach 60. XX w. wraz z publikacją arkuszy Letrasetu, zawierających fragmenty Lorem Ipsum, a ostatnio z zawierającym różne wersje Lorem Ipsum oprogramowaniem przeznaczonym do realizacji druków na komputerach osobistych, jak Aldus PageMaker\n"
     ]
    }
   ],
   "source": [
    "print(tekst)"
   ]
  },
  {
   "cell_type": "markdown",
   "id": "21e76d9b",
   "metadata": {},
   "source": [
    "__ZADANIE 3__"
   ]
  },
  {
   "cell_type": "code",
   "execution_count": 31,
   "id": "de18783b",
   "metadata": {},
   "outputs": [
    {
     "name": "stdout",
     "output_type": "stream",
     "text": [
      "W tekście jest 28 liter z oraz 19 liter t.\n"
     ]
    }
   ],
   "source": [
    "litera_1 = 'z'\n",
    "litera_2 = 't'\n",
    "liczba_liter1 = tekst.count(litera_1)\n",
    "liczba_liter2 = tekst.count(litera_2)\n",
    "print(\"W tekście jest {} liter {} oraz {} liter {}.\".format(liczba_liter1, litera_1, liczba_liter2, litera_2))"
   ]
  },
  {
   "cell_type": "markdown",
   "id": "70ef7c58",
   "metadata": {},
   "source": [
    "__ZADANIE 4__"
   ]
  },
  {
   "cell_type": "markdown",
   "id": "f378fe1c",
   "metadata": {},
   "source": [
    "1)"
   ]
  },
  {
   "cell_type": "code",
   "execution_count": 32,
   "id": "b230b5a6",
   "metadata": {},
   "outputs": [
    {
     "data": {
      "text/plain": [
       "'2023-03-02 16:30'"
      ]
     },
     "execution_count": 32,
     "metadata": {},
     "output_type": "execute_result"
    }
   ],
   "source": [
    "from datetime import datetime\n",
    "dt = datetime(2023, 3, 2, 16, 30)\n",
    "f\"{dt:%Y-%m-%d %H:%M}\""
   ]
  },
  {
   "cell_type": "markdown",
   "id": "ec7765a7",
   "metadata": {},
   "source": [
    "2)"
   ]
  },
  {
   "cell_type": "code",
   "execution_count": 33,
   "id": "7c60fd3d",
   "metadata": {},
   "outputs": [
    {
     "data": {
      "text/plain": [
       "'2.41'"
      ]
     },
     "execution_count": 33,
     "metadata": {},
     "output_type": "execute_result"
    }
   ],
   "source": [
    "number = 2.4132434\n",
    "width = 4\n",
    "poprzecinku = 2\n",
    "f\"{number:{width}.{poprzecinku}f}\""
   ]
  },
  {
   "cell_type": "markdown",
   "id": "554b9e90",
   "metadata": {},
   "source": [
    "3)"
   ]
  },
  {
   "cell_type": "code",
   "execution_count": 34,
   "id": "3a4c82ff",
   "metadata": {},
   "outputs": [
    {
     "data": {
      "text/plain": [
       "'68 107'"
      ]
     },
     "execution_count": 34,
     "metadata": {},
     "output_type": "execute_result"
    }
   ],
   "source": [
    "data = [3, 4, 13, 22, 68, 107]\n",
    "f\"{data[4]} {data[5]}\""
   ]
  },
  {
   "cell_type": "markdown",
   "id": "87b80ca0",
   "metadata": {},
   "source": [
    "4)"
   ]
  },
  {
   "cell_type": "code",
   "execution_count": 35,
   "id": "579be591",
   "metadata": {},
   "outputs": [
    {
     "data": {
      "text/plain": [
       "'Mateusz Górzyński'"
      ]
     },
     "execution_count": 35,
     "metadata": {},
     "output_type": "execute_result"
    }
   ],
   "source": [
    "data = {'imie': 'Mateusz', 'nazwisko': 'Górzyński'}\n",
    "f\"{data['imie']} {data['nazwisko']}\""
   ]
  },
  {
   "cell_type": "markdown",
   "id": "0a35c449",
   "metadata": {},
   "source": [
    "5)"
   ]
  },
  {
   "cell_type": "code",
   "execution_count": 36,
   "id": "ae328c41",
   "metadata": {},
   "outputs": [
    {
     "data": {
      "text/plain": [
       "'+42'"
      ]
     },
     "execution_count": 36,
     "metadata": {},
     "output_type": "execute_result"
    }
   ],
   "source": [
    "f\"{42:+d}\""
   ]
  }
 ],
 "metadata": {
  "kernelspec": {
   "display_name": "Python 3 (ipykernel)",
   "language": "python",
   "name": "python3"
  },
  "language_info": {
   "codemirror_mode": {
    "name": "ipython",
    "version": 3
   },
   "file_extension": ".py",
   "mimetype": "text/x-python",
   "name": "python",
   "nbconvert_exporter": "python",
   "pygments_lexer": "ipython3",
   "version": "3.9.13"
  }
 },
 "nbformat": 4,
 "nbformat_minor": 5
}
