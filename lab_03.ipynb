{
 "cells": [
  {
   "cell_type": "markdown",
   "id": "6b20f3be",
   "metadata": {},
   "source": [
    "__ZADANIE 1__"
   ]
  },
  {
   "cell_type": "code",
   "execution_count": 8,
   "id": "9cb32674",
   "metadata": {},
   "outputs": [
    {
     "name": "stdout",
     "output_type": "stream",
     "text": [
      "Oryginalna lista: [1, 2, 3, 4, 5]\n",
      "Nowa lista: [6, 7, 8, 9, 10]\n"
     ]
    }
   ],
   "source": [
    "lista = list(range(1, 11))\n",
    "nowa_lista = lista[5:]\n",
    "lista = lista[:5]\n",
    "print(f'Oryginalna lista: {lista}')\n",
    "print(f'Nowa lista: {nowa_lista}')"
   ]
  },
  {
   "cell_type": "markdown",
   "id": "04d42d6c",
   "metadata": {},
   "source": [
    "__ZADANIE 2__"
   ]
  },
  {
   "cell_type": "code",
   "execution_count": 9,
   "id": "429dcff1",
   "metadata": {},
   "outputs": [
    {
     "name": "stdout",
     "output_type": "stream",
     "text": [
      "[0, 1, 2, 3, 4, 5, 6, 7, 8, 9, 10]\n",
      "Kopia listy posortowana malejąco: [10, 9, 8, 7, 6, 5, 4, 3, 2, 1, 0]\n"
     ]
    }
   ],
   "source": [
    "lista.extend(nowa_lista)\n",
    "lista.insert(0,0)\n",
    "print(lista)\n",
    "kopia_listy = sorted(lista, reverse=True)\n",
    "print(f'Kopia listy posortowana malejąco: {kopia_listy}')"
   ]
  },
  {
   "cell_type": "markdown",
   "id": "309a2fcd",
   "metadata": {},
   "source": [
    "__ZADANIE 3__"
   ]
  },
  {
   "cell_type": "code",
   "execution_count": 17,
   "id": "14e132de",
   "metadata": {},
   "outputs": [
    {
     "name": "stdout",
     "output_type": "stream",
     "text": [
      "Twój ciąg znaków:\n",
      "Ala ma kota.\n",
      "[' ', '.', 'a', 'k', 'l', 'm', 'o', 't']\n"
     ]
    }
   ],
   "source": [
    "string1 = input(\"Twój ciąg znaków:\\n\")\n",
    "string1 = set(string1.lower())\n",
    "print(sorted(string1))"
   ]
  },
  {
   "cell_type": "markdown",
   "id": "2036cbac",
   "metadata": {},
   "source": [
    "__ZADANIE 4__"
   ]
  },
  {
   "cell_type": "code",
   "execution_count": 11,
   "id": "36e09227",
   "metadata": {},
   "outputs": [
    {
     "name": "stdout",
     "output_type": "stream",
     "text": [
      "{1: 'styczeń', 2: 'luty', 3: 'marzec', 4: 'kwiecień', 5: 'maj', 6: 'czerwiec', 7: 'lipiec', 8: 'sierpień', 9: 'wrzesień', 10: 'październik', 11: 'listopad', 12: 'grudzień'}\n"
     ]
    }
   ],
   "source": [
    "m_pl = {1: \"styczeń\",\n",
    "        2: \"luty\",\n",
    "        3: \"marzec\",\n",
    "        4: \"kwiecień\",\n",
    "        5: \"maj\",\n",
    "        6: \"czerwiec\",\n",
    "        7: \"lipiec\",\n",
    "        8: \"sierpień\",\n",
    "        9: \"wrzesień\",\n",
    "        10: \"październik\",\n",
    "        11: \"listopad\",\n",
    "        12: \"grudzień\"}\n",
    "print(m_pl)"
   ]
  },
  {
   "cell_type": "markdown",
   "id": "1533f1a8",
   "metadata": {},
   "source": [
    "__ZADANIE 5__"
   ]
  },
  {
   "cell_type": "code",
   "execution_count": 12,
   "id": "863dbd41",
   "metadata": {},
   "outputs": [
    {
     "name": "stdout",
     "output_type": "stream",
     "text": [
      "kwiecień\n",
      "april\n"
     ]
    }
   ],
   "source": [
    "m_en = {1: \"january\",\n",
    "        2: \"february\",\n",
    "        3: \"march\",\n",
    "        4: \"april\",\n",
    "        5: \"may\",\n",
    "        6: \"june\",\n",
    "        7: \"july\",\n",
    "        8: \"august\",\n",
    "        9: \"september\",\n",
    "        10: \"october\",\n",
    "        11: \"november\",\n",
    "        12: \"december\"}\n",
    "months = {\"pl\": m_pl, \"en\": m_en}\n",
    "print(months['pl'][4])\n",
    "print(months['en'][4])"
   ]
  },
  {
   "cell_type": "markdown",
   "id": "28b8ab97",
   "metadata": {},
   "source": [
    "__ZADANIE 6__"
   ]
  },
  {
   "cell_type": "code",
   "execution_count": 13,
   "id": "60980099",
   "metadata": {},
   "outputs": [
    {
     "name": "stdout",
     "output_type": "stream",
     "text": [
      "{'M': 1, 'a': 1, 'r': 1, 'i': 1, 'n': 1}\n"
     ]
    }
   ],
   "source": [
    "imie = \"Marianna\"\n",
    "slownik = dict.fromkeys(imie, 1)\n",
    "print(slownik)"
   ]
  },
  {
   "cell_type": "markdown",
   "id": "d4edf65c",
   "metadata": {},
   "source": [
    "__ZADANIE 7__"
   ]
  },
  {
   "cell_type": "code",
   "execution_count": 24,
   "id": "17af43b0",
   "metadata": {
    "scrolled": true
   },
   "outputs": [
    {
     "name": "stdout",
     "output_type": "stream",
     "text": [
      "Wprowadź tekst: Ala ma 768 kotów oraz 3 psy\n",
      "Znaki pokrywające się z małymi literami: 16 - 59.26%\n",
      "Znaki pokrywające się z cyframi: 4 - 14.81%\n"
     ]
    }
   ],
   "source": [
    "import string\n",
    "tekst = input(\"Wprowadź tekst: \")\n",
    "tekst = tekst.lower()\n",
    "liczba_lowercase = sum(1 for znak in tekst if znak in string.ascii_lowercase)\n",
    "liczba_digits = sum(1 for znak in tekst if znak in string.digits)\n",
    "\n",
    "print(f'Znaki pokrywające się z małymi literami: {liczba_lowercase} - {liczba_lowercase/len(tekst)*100:.2f}%')\n",
    "print(f'Znaki pokrywające się z cyframi: {liczba_digits} - {liczba_digits/len(tekst)*100:.2f}%')"
   ]
  }
 ],
 "metadata": {
  "kernelspec": {
   "display_name": "Python 3 (ipykernel)",
   "language": "python",
   "name": "python3"
  },
  "language_info": {
   "codemirror_mode": {
    "name": "ipython",
    "version": 3
   },
   "file_extension": ".py",
   "mimetype": "text/x-python",
   "name": "python",
   "nbconvert_exporter": "python",
   "pygments_lexer": "ipython3",
   "version": "3.9.13"
  }
 },
 "nbformat": 4,
 "nbformat_minor": 5
}
